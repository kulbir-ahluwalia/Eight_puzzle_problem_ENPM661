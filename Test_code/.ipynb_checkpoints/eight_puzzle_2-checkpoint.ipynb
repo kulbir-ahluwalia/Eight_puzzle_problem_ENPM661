{
 "cells": [
  {
   "cell_type": "code",
   "execution_count": 17,
   "metadata": {},
   "outputs": [
    {
     "name": "stdout",
     "output_type": "stream",
     "text": [
      "Enter the initial state of the eight puzzle problem row wise\n",
      "Enter the 1th value of the eight puzzle\n",
      "3\n",
      "Enter the 2th value of the eight puzzle\n",
      "4\n",
      "Enter the 3th value of the eight puzzle\n",
      "5\n",
      "Enter the 4th value of the eight puzzle\n",
      "6\n",
      "Enter the 5th value of the eight puzzle\n",
      "7\n",
      "Enter the 6th value of the eight puzzle\n",
      "8\n",
      "Enter the 7th value of the eight puzzle\n",
      "1\n",
      "Enter the 8th value of the eight puzzle\n",
      "2\n",
      "Enter the 9th value of the eight puzzle\n",
      "0\n",
      "('The initial state in row wise representation is  : ', [3, 4, 5, 6, 7, 8, 1, 2, 0])\n",
      "('The goal state in row wise representation is  : ', [1, 2, 3, 4, 5, 6, 7, 8, 0])\n"
     ]
    }
   ],
   "source": [
    "\n",
    "import numpy as np\n",
    "\n",
    "# Code to take initial state of the eight puzzle problem\n",
    "\n",
    "def initial_state():\n",
    "    print(\"Enter the initial state of the eight puzzle problem row wise\")\n",
    "    start_node = [0,0,0, 0,0,0, 0,0,0]\n",
    "    for i in range(9):\n",
    "        value = int(input(\"Enter the \" + str(i+1) + \"th value of the eight puzzle\\n\"))\n",
    "        if value >8 or value<0:\n",
    "            print(\"Enter a value from 0 to 8 only, Run program again please\")\n",
    "            exit(0)\n",
    "          \n",
    "        else:\n",
    "            start_node[i] = value\n",
    "            \n",
    "    return start_node\n",
    "\n",
    "# Code to check for repetition of numbers\n",
    "def repetition_check(node_for_check):\n",
    "  \n",
    "    for x in range(9):  \n",
    "        no_of_repetition = 0      \n",
    "        entry = node_for_check[x]\n",
    "        for y in range(9):\n",
    "            if entry == node_for_check[y]:\n",
    "                no_of_repetition = no_of_repetition + 1\n",
    "             \n",
    "        if no_of_repetition >= 2:\n",
    "            print(\"An entry for the eight puzzle has been repeated, Please restart program\")\n",
    "            exit(0)\n",
    "\n",
    "start_node = initial_state()\n",
    "print(\"The initial state in row wise representation is  : \", start_node)    \n",
    "\n",
    "repetition_check(start_node)\n",
    "\n",
    "\n",
    "goal_node = [1,2,3,4,5,6,7,8,0]\n",
    "print(\"The goal state in row wise representation is  : \", goal_node) \n",
    "\n",
    "# function to move the blank (zero) tile left\n",
    "def ActionMoveLeft(node_zero_unmoved):\n",
    "    zero_position = BlankTileLocation(node_zero_unmoved)\n",
    "    node_zero_moved = list(node_zero_unmoved)\n",
    "    if zero_position in [0,3,6]:\n",
    "        possibility = False\n",
    "        return possibility, node_zero_moved\n",
    "    else:\n",
    "        node_zero_moved[zero_position] = node_zero_moved[zero_position-1]\n",
    "        node_zero_moved[zero_position-1] = 0\n",
    "        possibility = True\n",
    "        return possibility, node_zero_unmoved, node_zero_moved\n",
    "\n",
    "\n",
    "\n",
    "# function to move the blank (zero) tile right\n",
    "def ActionMoveRight(node_zero_unmoved):\n",
    "    zero_position = BlankTileLocation(node_zero_unmoved)\n",
    "    node_zero_moved = list(node_zero_unmoved)\n",
    "    if zero_position in [2,5,8]:\n",
    "        possibility = False\n",
    "        return possibility, node_zero_moved\n",
    "    else:\n",
    "        node_zero_moved[zero_position] = node_zero_moved[zero_position+1]\n",
    "        node_zero_moved[zero_position+1] = 0\n",
    "        possibility = True\n",
    "        return possibility, node_zero_unmoved, node_zero_moved\n",
    "\n",
    "\n",
    "# function to move the blank (zero) tile up\n",
    "def ActionMoveUp(node_zero_unmoved):\n",
    "    zero_position = BlankTileLocation(node_zero_unmoved)\n",
    "    node_zero_moved = list(node_zero_unmoved)\n",
    "    if zero_position in [0,1,2]:\n",
    "        possibility = False\n",
    "        return possibility, node_zero_moved\n",
    "    else:\n",
    "        node_zero_moved[zero_position] = node_zero_moved[zero_position-3]\n",
    "        node_zero_moved[zero_position-3] = 0\n",
    "        possibility = True\n",
    "        return possibility, node_zero_unmoved, node_zero_moved\n",
    "\n",
    "\n",
    "# function to move the blank (zero) tile down\n",
    "def ActionMoveDown(node_zero_unmoved):\n",
    "    zero_position = BlankTileLocation(node_zero_unmoved)\n",
    "    node_zero_moved = list(node_zero_unmoved)\n",
    "    if zero_position in [6,7,8]:\n",
    "        possibility = False\n",
    "        return possibility, node_zero_moved\n",
    "    else:\n",
    "        node_zero_moved[zero_position] = node_zero_moved[zero_position+3]\n",
    "        node_zero_moved[zero_position+3] = 0\n",
    "        possibility = True\n",
    "        return possibility, node_zero_unmoved, node_zero_moved\n",
    "\n",
    "\n",
    "\n",
    "\n",
    "\n",
    "\n",
    "\n",
    "\n",
    "\n",
    "\n"
   ]
  },
  {
   "cell_type": "code",
   "execution_count": null,
   "metadata": {},
   "outputs": [],
   "source": [
    "def check_solvability(start_node):\n",
    "    \n",
    "    "
   ]
  },
  {
   "cell_type": "code",
   "execution_count": 33,
   "metadata": {},
   "outputs": [
    {
     "data": {
      "text/plain": [
       "9"
      ]
     },
     "execution_count": 33,
     "metadata": {},
     "output_type": "execute_result"
    }
   ],
   "source": [
    "len(start_node)"
   ]
  },
  {
   "cell_type": "code",
   "execution_count": 36,
   "metadata": {},
   "outputs": [
    {
     "data": {
      "text/plain": [
       "[7, 8, 1, 2, 0]"
      ]
     },
     "execution_count": 36,
     "metadata": {},
     "output_type": "execute_result"
    }
   ],
   "source": [
    "start_node[4:]"
   ]
  },
  {
   "cell_type": "code",
   "execution_count": 39,
   "metadata": {},
   "outputs": [
    {
     "name": "stdout",
     "output_type": "stream",
     "text": [
      "0\n",
      "(3, 4)\n",
      "(3, 5)\n",
      "(3, 6)\n",
      "(3, 7)\n",
      "(3, 8)\n",
      "(3, 1)\n",
      "(3, 2)\n",
      "(3, 0)\n",
      "1\n",
      "(4, 5)\n",
      "(4, 6)\n",
      "(4, 7)\n",
      "(4, 8)\n",
      "(4, 1)\n",
      "(4, 2)\n",
      "(4, 0)\n",
      "2\n",
      "(5, 6)\n",
      "(5, 7)\n",
      "(5, 8)\n",
      "(5, 1)\n",
      "(5, 2)\n",
      "(5, 0)\n",
      "3\n",
      "(6, 7)\n",
      "(6, 8)\n",
      "(6, 1)\n",
      "(6, 2)\n",
      "(6, 0)\n",
      "4\n",
      "(7, 8)\n",
      "(7, 1)\n",
      "(7, 2)\n",
      "(7, 0)\n",
      "5\n",
      "(8, 1)\n",
      "(8, 2)\n",
      "(8, 0)\n",
      "6\n",
      "(1, 2)\n",
      "(1, 0)\n",
      "7\n",
      "(2, 0)\n",
      "8\n"
     ]
    }
   ],
   "source": [
    "for x in range(len(start_node)):\n",
    "    print(x)\n",
    "    for y in range(len(start_node[(x+1):])):\n",
    "        #print(len(start_node[(x+1):])\n",
    "        print(start_node[x],start_node[x+y+1])\n",
    "        #print(x+y+1)\n",
    "   "
   ]
  },
  {
   "cell_type": "code",
   "execution_count": null,
   "metadata": {},
   "outputs": [],
   "source": []
  },
  {
   "cell_type": "code",
   "execution_count": null,
   "metadata": {},
   "outputs": [],
   "source": []
  },
  {
   "cell_type": "code",
   "execution_count": null,
   "metadata": {},
   "outputs": [],
   "source": []
  },
  {
   "cell_type": "code",
   "execution_count": null,
   "metadata": {},
   "outputs": [],
   "source": []
  },
  {
   "cell_type": "code",
   "execution_count": null,
   "metadata": {},
   "outputs": [],
   "source": []
  },
  {
   "cell_type": "code",
   "execution_count": null,
   "metadata": {},
   "outputs": [],
   "source": []
  },
  {
   "cell_type": "code",
   "execution_count": null,
   "metadata": {},
   "outputs": [],
   "source": []
  },
  {
   "cell_type": "code",
   "execution_count": null,
   "metadata": {},
   "outputs": [],
   "source": []
  },
  {
   "cell_type": "code",
   "execution_count": null,
   "metadata": {},
   "outputs": [],
   "source": []
  }
 ],
 "metadata": {
  "kernelspec": {
   "display_name": "Python 3",
   "language": "python",
   "name": "python3"
  },
  "language_info": {
   "codemirror_mode": {
    "name": "ipython",
    "version": 2
   },
   "file_extension": ".py",
   "mimetype": "text/x-python",
   "name": "python",
   "nbconvert_exporter": "python",
   "pygments_lexer": "ipython2",
   "version": "2.7.17"
  }
 },
 "nbformat": 4,
 "nbformat_minor": 2
}
