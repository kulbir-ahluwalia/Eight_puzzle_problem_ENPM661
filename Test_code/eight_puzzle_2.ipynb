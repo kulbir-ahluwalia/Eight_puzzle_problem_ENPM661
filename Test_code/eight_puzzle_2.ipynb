{
 "cells": [
  {
   "cell_type": "code",
   "execution_count": 1,
   "metadata": {},
   "outputs": [
    {
     "name": "stdout",
     "output_type": "stream",
     "text": [
      "Enter the initial state of the eight puzzle problem row wise\n",
      "Enter the 1th value of the eight puzzle\n",
      "3\n",
      "Enter the 2th value of the eight puzzle\n",
      "4\n",
      "Enter the 3th value of the eight puzzle\n",
      "5\n",
      "Enter the 4th value of the eight puzzle\n",
      "6\n",
      "Enter the 5th value of the eight puzzle\n",
      "7\n",
      "Enter the 6th value of the eight puzzle\n",
      "8\n",
      "Enter the 7th value of the eight puzzle\n",
      "1\n",
      "Enter the 8th value of the eight puzzle\n",
      "2\n",
      "Enter the 9th value of the eight puzzle\n",
      "0\n",
      "('The initial state in row wise representation is  : ', [3, 4, 5, 6, 7, 8, 1, 2, 0])\n",
      "('The goal state in row wise representation is  : ', [1, 2, 3, 4, 5, 6, 7, 8, 0])\n"
     ]
    }
   ],
   "source": [
    "\n",
    "import numpy as np\n",
    "\n",
    "# Code to take initial state of the eight puzzle problem\n",
    "\n",
    "def initial_state():\n",
    "    print(\"Enter the initial state of the eight puzzle problem row wise\")\n",
    "    start_node = [0,0,0, 0,0,0, 0,0,0]\n",
    "    for i in range(9):\n",
    "        value = int(input(\"Enter the \" + str(i+1) + \"th value of the eight puzzle\\n\"))\n",
    "        if value >8 or value<0:\n",
    "            print(\"Enter a value from 0 to 8 only, Run program again please\")\n",
    "            exit(0)\n",
    "          \n",
    "        else:\n",
    "            start_node[i] = value\n",
    "            \n",
    "    return start_node\n",
    "\n",
    "# Code to check for repetition of numbers\n",
    "def repetition_check(node_for_check):\n",
    "  \n",
    "    for x in range(9):  \n",
    "        no_of_repetition = 0      \n",
    "        entry = node_for_check[x]\n",
    "        for y in range(9):\n",
    "            if entry == node_for_check[y]:\n",
    "                no_of_repetition = no_of_repetition + 1\n",
    "             \n",
    "        if no_of_repetition >= 2:\n",
    "            print(\"An entry for the eight puzzle has been repeated, Please restart program\")\n",
    "            exit(0)\n",
    "\n",
    "start_node = initial_state()\n",
    "print(\"The initial state in row wise representation is  : \", start_node)    \n",
    "\n",
    "repetition_check(start_node)\n",
    "\n",
    "\n",
    "goal_node = [1,2,3,4,5,6,7,8,0]\n",
    "print(\"The goal state in row wise representation is  : \", goal_node) \n",
    "\n",
    "# function to move the blank (zero) tile left\n",
    "def ActionMoveLeft(node_zero_unmoved):\n",
    "    zero_position = BlankTileLocation(node_zero_unmoved)\n",
    "    node_zero_moved = list(node_zero_unmoved)\n",
    "    if zero_position in [0,3,6]:\n",
    "        possibility = False\n",
    "        return possibility, node_zero_moved\n",
    "    else:\n",
    "        node_zero_moved[zero_position] = node_zero_moved[zero_position-1]\n",
    "        node_zero_moved[zero_position-1] = 0\n",
    "        possibility = True\n",
    "        return possibility, node_zero_unmoved, node_zero_moved\n",
    "\n",
    "\n",
    "\n",
    "# function to move the blank (zero) tile right\n",
    "def ActionMoveRight(node_zero_unmoved):\n",
    "    zero_position = BlankTileLocation(node_zero_unmoved)\n",
    "    node_zero_moved = list(node_zero_unmoved)\n",
    "    if zero_position in [2,5,8]:\n",
    "        possibility = False\n",
    "        return possibility, node_zero_moved\n",
    "    else:\n",
    "        node_zero_moved[zero_position] = node_zero_moved[zero_position+1]\n",
    "        node_zero_moved[zero_position+1] = 0\n",
    "        possibility = True\n",
    "        return possibility, node_zero_unmoved, node_zero_moved\n",
    "\n",
    "\n",
    "# function to move the blank (zero) tile up\n",
    "def ActionMoveUp(node_zero_unmoved):\n",
    "    zero_position = BlankTileLocation(node_zero_unmoved)\n",
    "    node_zero_moved = list(node_zero_unmoved)\n",
    "    if zero_position in [0,1,2]:\n",
    "        possibility = False\n",
    "        return possibility, node_zero_moved\n",
    "    else:\n",
    "        node_zero_moved[zero_position] = node_zero_moved[zero_position-3]\n",
    "        node_zero_moved[zero_position-3] = 0\n",
    "        possibility = True\n",
    "        return possibility, node_zero_unmoved, node_zero_moved\n",
    "\n",
    "\n",
    "# function to move the blank (zero) tile down\n",
    "def ActionMoveDown(node_zero_unmoved):\n",
    "    zero_position = BlankTileLocation(node_zero_unmoved)\n",
    "    node_zero_moved = list(node_zero_unmoved)\n",
    "    if zero_position in [6,7,8]:\n",
    "        possibility = False\n",
    "        return possibility, node_zero_moved\n",
    "    else:\n",
    "        node_zero_moved[zero_position] = node_zero_moved[zero_position+3]\n",
    "        node_zero_moved[zero_position+3] = 0\n",
    "        possibility = True\n",
    "        return possibility, node_zero_unmoved, node_zero_moved\n",
    "\n",
    "\n",
    "\n",
    "\n",
    "\n",
    "\n",
    "\n",
    "\n",
    "\n",
    "\n"
   ]
  },
  {
   "cell_type": "code",
   "execution_count": 28,
   "metadata": {},
   "outputs": [],
   "source": [
    "# test code to check if the eight puzzle is solvable or not\n",
    "def check_solvability(node_check):\n",
    "    inversions = 0\n",
    "    for x in range(len(node_check)):\n",
    "        for y in range(len(node_check[(x+1):])):\n",
    "            # Uncomment following line to see the values being compared\n",
    "            #print(node_check[x],\"  \", node_check[x+y+1])\n",
    "            # to ignore the blank tile\n",
    "            if node_check[x+y+1]>0:\n",
    "                if node_check[x] > node_check[x+y+1]:\n",
    "                    inversions = inversions + 1\n",
    "    #print(inversions) #to check the number of inversions\n",
    "    \n",
    "    if inversions % 2 == 0:\n",
    "        return True\n",
    "    else:\n",
    "        return False"
   ]
  },
  {
   "cell_type": "code",
   "execution_count": 29,
   "metadata": {
    "scrolled": false
   },
   "outputs": [
    {
     "data": {
      "text/plain": [
       "True"
      ]
     },
     "execution_count": 29,
     "metadata": {},
     "output_type": "execute_result"
    }
   ],
   "source": [
    "check_solvability(start_node)"
   ]
  },
  {
   "cell_type": "code",
   "execution_count": 3,
   "metadata": {},
   "outputs": [
    {
     "data": {
      "text/plain": [
       "9"
      ]
     },
     "execution_count": 3,
     "metadata": {},
     "output_type": "execute_result"
    }
   ],
   "source": [
    "len(start_node)"
   ]
  },
  {
   "cell_type": "code",
   "execution_count": 17,
   "metadata": {},
   "outputs": [
    {
     "data": {
      "text/plain": [
       "[8, 1, 2, 0]"
      ]
     },
     "execution_count": 17,
     "metadata": {},
     "output_type": "execute_result"
    }
   ],
   "source": [
    "start_node[5:]"
   ]
  },
  {
   "cell_type": "code",
   "execution_count": 6,
   "metadata": {},
   "outputs": [
    {
     "name": "stdout",
     "output_type": "stream",
     "text": [
      "('x is', 0)\n",
      "('y is', 0)\n",
      "('Upper range of y', 8)\n",
      "(3, 4)\n",
      "('x+y+1 is: ', 1)\n",
      "---------\n",
      "('y is', 1)\n",
      "('Upper range of y', 8)\n",
      "(3, 5)\n",
      "('x+y+1 is: ', 2)\n",
      "---------\n",
      "('y is', 2)\n",
      "('Upper range of y', 8)\n",
      "(3, 6)\n",
      "('x+y+1 is: ', 3)\n",
      "---------\n",
      "('y is', 3)\n",
      "('Upper range of y', 8)\n",
      "(3, 7)\n",
      "('x+y+1 is: ', 4)\n",
      "---------\n",
      "('y is', 4)\n",
      "('Upper range of y', 8)\n",
      "(3, 8)\n",
      "('x+y+1 is: ', 5)\n",
      "---------\n",
      "('y is', 5)\n",
      "('Upper range of y', 8)\n",
      "(3, 1)\n",
      "('x+y+1 is: ', 6)\n",
      "---------\n",
      "('y is', 6)\n",
      "('Upper range of y', 8)\n",
      "(3, 2)\n",
      "('x+y+1 is: ', 7)\n",
      "---------\n",
      "('y is', 7)\n",
      "('Upper range of y', 8)\n",
      "(3, 0)\n",
      "('x+y+1 is: ', 8)\n",
      "---------\n",
      "('x is', 1)\n",
      "('y is', 0)\n",
      "('Upper range of y', 7)\n",
      "(4, 5)\n",
      "('x+y+1 is: ', 2)\n",
      "---------\n",
      "('y is', 1)\n",
      "('Upper range of y', 7)\n",
      "(4, 6)\n",
      "('x+y+1 is: ', 3)\n",
      "---------\n",
      "('y is', 2)\n",
      "('Upper range of y', 7)\n",
      "(4, 7)\n",
      "('x+y+1 is: ', 4)\n",
      "---------\n",
      "('y is', 3)\n",
      "('Upper range of y', 7)\n",
      "(4, 8)\n",
      "('x+y+1 is: ', 5)\n",
      "---------\n",
      "('y is', 4)\n",
      "('Upper range of y', 7)\n",
      "(4, 1)\n",
      "('x+y+1 is: ', 6)\n",
      "---------\n",
      "('y is', 5)\n",
      "('Upper range of y', 7)\n",
      "(4, 2)\n",
      "('x+y+1 is: ', 7)\n",
      "---------\n",
      "('y is', 6)\n",
      "('Upper range of y', 7)\n",
      "(4, 0)\n",
      "('x+y+1 is: ', 8)\n",
      "---------\n",
      "('x is', 2)\n",
      "('y is', 0)\n",
      "('Upper range of y', 6)\n",
      "(5, 6)\n",
      "('x+y+1 is: ', 3)\n",
      "---------\n",
      "('y is', 1)\n",
      "('Upper range of y', 6)\n",
      "(5, 7)\n",
      "('x+y+1 is: ', 4)\n",
      "---------\n",
      "('y is', 2)\n",
      "('Upper range of y', 6)\n",
      "(5, 8)\n",
      "('x+y+1 is: ', 5)\n",
      "---------\n",
      "('y is', 3)\n",
      "('Upper range of y', 6)\n",
      "(5, 1)\n",
      "('x+y+1 is: ', 6)\n",
      "---------\n",
      "('y is', 4)\n",
      "('Upper range of y', 6)\n",
      "(5, 2)\n",
      "('x+y+1 is: ', 7)\n",
      "---------\n",
      "('y is', 5)\n",
      "('Upper range of y', 6)\n",
      "(5, 0)\n",
      "('x+y+1 is: ', 8)\n",
      "---------\n",
      "('x is', 3)\n",
      "('y is', 0)\n",
      "('Upper range of y', 5)\n",
      "(6, 7)\n",
      "('x+y+1 is: ', 4)\n",
      "---------\n",
      "('y is', 1)\n",
      "('Upper range of y', 5)\n",
      "(6, 8)\n",
      "('x+y+1 is: ', 5)\n",
      "---------\n",
      "('y is', 2)\n",
      "('Upper range of y', 5)\n",
      "(6, 1)\n",
      "('x+y+1 is: ', 6)\n",
      "---------\n",
      "('y is', 3)\n",
      "('Upper range of y', 5)\n",
      "(6, 2)\n",
      "('x+y+1 is: ', 7)\n",
      "---------\n",
      "('y is', 4)\n",
      "('Upper range of y', 5)\n",
      "(6, 0)\n",
      "('x+y+1 is: ', 8)\n",
      "---------\n",
      "('x is', 4)\n",
      "('y is', 0)\n",
      "('Upper range of y', 4)\n",
      "(7, 8)\n",
      "('x+y+1 is: ', 5)\n",
      "---------\n",
      "('y is', 1)\n",
      "('Upper range of y', 4)\n",
      "(7, 1)\n",
      "('x+y+1 is: ', 6)\n",
      "---------\n",
      "('y is', 2)\n",
      "('Upper range of y', 4)\n",
      "(7, 2)\n",
      "('x+y+1 is: ', 7)\n",
      "---------\n",
      "('y is', 3)\n",
      "('Upper range of y', 4)\n",
      "(7, 0)\n",
      "('x+y+1 is: ', 8)\n",
      "---------\n",
      "('x is', 5)\n",
      "('y is', 0)\n",
      "('Upper range of y', 3)\n",
      "(8, 1)\n",
      "('x+y+1 is: ', 6)\n",
      "---------\n",
      "('y is', 1)\n",
      "('Upper range of y', 3)\n",
      "(8, 2)\n",
      "('x+y+1 is: ', 7)\n",
      "---------\n",
      "('y is', 2)\n",
      "('Upper range of y', 3)\n",
      "(8, 0)\n",
      "('x+y+1 is: ', 8)\n",
      "---------\n",
      "('x is', 6)\n",
      "('y is', 0)\n",
      "('Upper range of y', 2)\n",
      "(1, 2)\n",
      "('x+y+1 is: ', 7)\n",
      "---------\n",
      "('y is', 1)\n",
      "('Upper range of y', 2)\n",
      "(1, 0)\n",
      "('x+y+1 is: ', 8)\n",
      "---------\n",
      "('x is', 7)\n",
      "('y is', 0)\n",
      "('Upper range of y', 1)\n",
      "(2, 0)\n",
      "('x+y+1 is: ', 8)\n",
      "---------\n",
      "('x is', 8)\n"
     ]
    }
   ],
   "source": [
    "# test code to print all the combinations for solvability check\n",
    "for x in range(len(start_node)):\n",
    "    print(\"x is\", x)\n",
    "    for y in range(len(start_node[(x+1):])):\n",
    "        print(\"y is\", y)\n",
    "        print(\"Upper range of y\", len(start_node[(x+1):]))\n",
    "        print(start_node[x],start_node[x+y+1])\n",
    "        print(\"x+y+1 is: \",x+y+1)\n",
    "        print(\"---------\")\n",
    "   "
   ]
  },
  {
   "cell_type": "code",
   "execution_count": 55,
   "metadata": {},
   "outputs": [],
   "source": [
    "\n",
    "f = open('Nodes.txt', 'r+')\n",
    "f.write(\"howdy!\")\n",
    "f.close()\n",
    "\n"
   ]
  },
  {
   "cell_type": "code",
   "execution_count": 56,
   "metadata": {},
   "outputs": [
    {
     "name": "stdout",
     "output_type": "stream",
     "text": [
      "howdy!up!\n"
     ]
    }
   ],
   "source": [
    "f = open('Nodes.txt', 'r+')\n",
    "\n",
    "print(f.read())"
   ]
  },
  {
   "cell_type": "code",
   "execution_count": 38,
   "metadata": {},
   "outputs": [
    {
     "name": "stdout",
     "output_type": "stream",
     "text": [
      "('the answer', 42)\n"
     ]
    }
   ],
   "source": [
    "s = str(value)\n",
    "print(s)"
   ]
  },
  {
   "cell_type": "code",
   "execution_count": 39,
   "metadata": {},
   "outputs": [],
   "source": [
    "f.write(s)"
   ]
  },
  {
   "cell_type": "code",
   "execution_count": 40,
   "metadata": {},
   "outputs": [],
   "source": [
    "f.close()"
   ]
  },
  {
   "cell_type": "code",
   "execution_count": 49,
   "metadata": {},
   "outputs": [
    {
     "ename": "IOError",
     "evalue": "File not open for writing",
     "output_type": "error",
     "traceback": [
      "\u001b[0;31m----------------------------------------------------\u001b[0m",
      "\u001b[0;31mIOError\u001b[0m            Traceback (most recent call last)",
      "\u001b[0;32m<ipython-input-49-81be6f7db5f3>\u001b[0m in \u001b[0;36m<module>\u001b[0;34m()\u001b[0m\n\u001b[1;32m      1\u001b[0m \u001b[0;32mwith\u001b[0m \u001b[0mopen\u001b[0m\u001b[0;34m(\u001b[0m\u001b[0;34m'Nodes.txt'\u001b[0m\u001b[0;34m)\u001b[0m \u001b[0;32mas\u001b[0m \u001b[0mf\u001b[0m\u001b[0;34m:\u001b[0m\u001b[0;34m\u001b[0m\u001b[0m\n\u001b[0;32m----> 2\u001b[0;31m     \u001b[0mread_data\u001b[0m \u001b[0;34m=\u001b[0m \u001b[0mf\u001b[0m\u001b[0;34m.\u001b[0m\u001b[0mwrite\u001b[0m\u001b[0;34m(\u001b[0m\u001b[0;34m\"wassssup!\"\u001b[0m\u001b[0;34m)\u001b[0m\u001b[0;34m\u001b[0m\u001b[0m\n\u001b[0m",
      "\u001b[0;31mIOError\u001b[0m: File not open for writing"
     ]
    }
   ],
   "source": [
    "with open('Nodes.txt') as f:\n",
    "...     read_data = f.write(\"wassssup!\")"
   ]
  },
  {
   "cell_type": "code",
   "execution_count": null,
   "metadata": {},
   "outputs": [],
   "source": []
  },
  {
   "cell_type": "code",
   "execution_count": null,
   "metadata": {},
   "outputs": [],
   "source": []
  },
  {
   "cell_type": "code",
   "execution_count": null,
   "metadata": {},
   "outputs": [],
   "source": []
  },
  {
   "cell_type": "code",
   "execution_count": null,
   "metadata": {},
   "outputs": [],
   "source": []
  }
 ],
 "metadata": {
  "kernelspec": {
   "display_name": "Python 3",
   "language": "python",
   "name": "python3"
  },
  "language_info": {
   "codemirror_mode": {
    "name": "ipython",
    "version": 2
   },
   "file_extension": ".py",
   "mimetype": "text/x-python",
   "name": "python",
   "nbconvert_exporter": "python",
   "pygments_lexer": "ipython2",
   "version": "2.7.17"
  }
 },
 "nbformat": 4,
 "nbformat_minor": 2
}
