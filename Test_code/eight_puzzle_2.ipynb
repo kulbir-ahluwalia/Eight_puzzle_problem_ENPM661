{
 "cells": [
  {
   "cell_type": "code",
   "execution_count": null,
   "metadata": {},
   "outputs": [],
   "source": [
    "\n"
   ]
  },
  {
   "cell_type": "code",
   "execution_count": 1,
   "metadata": {},
   "outputs": [
    {
     "name": "stdout",
     "output_type": "stream",
     "text": [
      "Enter the initial state of the eight puzzle problem row wise\n",
      "Enter the 1th value of the eight puzzle\n",
      "\n"
     ]
    },
    {
     "ename": "SyntaxError",
     "evalue": "unexpected EOF while parsing (<string>, line 0)",
     "output_type": "error",
     "traceback": [
      "\u001b[0;36m  File \u001b[0;32m\"<string>\"\u001b[0;36m, line \u001b[0;32munknown\u001b[0m\n\u001b[0;31m    \u001b[0m\n\u001b[0m    ^\u001b[0m\n\u001b[0;31mSyntaxError\u001b[0m\u001b[0;31m:\u001b[0m unexpected EOF while parsing\n"
     ]
    }
   ],
   "source": [
    "import numpy as np\n",
    "# Code to take initial state of the eight puzzle problem\n",
    "\n",
    "def initial_state():\n",
    "    print(\"Enter the initial state of the eight puzzle problem row wise\")\n",
    "    start_node = [0,0,0, 0,0,0, 0,0,0]\n",
    "    for i in range(9):\n",
    "        value = int(input(\"Enter the \" + str(i+1) + \"th value of the eight puzzle\\n\"))\n",
    "        if value >8 or value<0:\n",
    "            print(\"Enter a value from 0 to 8 only, Run program again please\")\n",
    "            exit(0)\n",
    "          \n",
    "        else:\n",
    "            start_node[i] = value\n",
    "            \n",
    "    return start_node\n",
    "\n",
    "# Code to check for repetition of numbers\n",
    "def repetition_check(node_for_check):\n",
    "  \n",
    "    for x in range(9):  \n",
    "        no_of_repetition = 0      \n",
    "        entry = node_for_check[x]\n",
    "        for y in range(9):\n",
    "            if entry == node_for_check[y]:\n",
    "                no_of_repetition = no_of_repetition + 1\n",
    "             \n",
    "        if no_of_repetition >= 2:\n",
    "            print(\"An entry for the eight puzzle has been repeated, Please restart program\")\n",
    "            exit(0)\n",
    "\n",
    "start_node = initial_state()\n",
    "print(\"The initial state in row wise representation is  : \", start_node)    \n",
    "\n",
    "repetition_check(start_node)\n",
    "\n",
    "\n",
    "goal_node = [1,2,3,4,5,6,7,8,0]\n",
    "print(\"The goal state in row wise representation is  : \", goal_node) \n"
   ]
  },
  {
   "cell_type": "code",
   "execution_count": null,
   "metadata": {},
   "outputs": [],
   "source": []
  },
  {
   "cell_type": "code",
   "execution_count": null,
   "metadata": {},
   "outputs": [],
   "source": []
  },
  {
   "cell_type": "code",
   "execution_count": null,
   "metadata": {},
   "outputs": [],
   "source": []
  },
  {
   "cell_type": "code",
   "execution_count": null,
   "metadata": {},
   "outputs": [],
   "source": []
  },
  {
   "cell_type": "code",
   "execution_count": null,
   "metadata": {},
   "outputs": [],
   "source": []
  },
  {
   "cell_type": "code",
   "execution_count": null,
   "metadata": {},
   "outputs": [],
   "source": []
  },
  {
   "cell_type": "code",
   "execution_count": null,
   "metadata": {},
   "outputs": [],
   "source": []
  },
  {
   "cell_type": "code",
   "execution_count": null,
   "metadata": {},
   "outputs": [],
   "source": []
  },
  {
   "cell_type": "code",
   "execution_count": null,
   "metadata": {},
   "outputs": [],
   "source": []
  },
  {
   "cell_type": "code",
   "execution_count": null,
   "metadata": {},
   "outputs": [],
   "source": []
  },
  {
   "cell_type": "code",
   "execution_count": null,
   "metadata": {},
   "outputs": [],
   "source": []
  }
 ],
 "metadata": {
  "kernelspec": {
   "display_name": "Python 3",
   "language": "python",
   "name": "python3"
  },
  "language_info": {
   "codemirror_mode": {
    "name": "ipython",
    "version": 2
   },
   "file_extension": ".py",
   "mimetype": "text/x-python",
   "name": "python",
   "nbconvert_exporter": "python",
   "pygments_lexer": "ipython2",
   "version": "2.7.17"
  }
 },
 "nbformat": 4,
 "nbformat_minor": 2
}
