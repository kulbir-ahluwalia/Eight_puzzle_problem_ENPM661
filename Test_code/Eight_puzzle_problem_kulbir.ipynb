{
 "cells": [
  {
   "cell_type": "code",
   "execution_count": null,
   "metadata": {
    "scrolled": true
   },
   "outputs": [],
   "source": [
    "import numpy as np\n",
    "#defining the goal matrix\n",
    "goal_node = [1,2,3,4,5,6,7,8,0]\n",
    "test_node = [1,2,3,4,0,5,7,8,6]\n",
    "test_node2 = [1,9,3,4,5,6,7,0,6]\n"
   ]
  },
  {
   "cell_type": "code",
   "execution_count": null,
   "metadata": {
    "scrolled": true
   },
   "outputs": [],
   "source": [
    "# take input state of the eight puzzle from the user with values from [0,8]\n",
    "start_node = initial_state()\n",
    "print(\"The initial state in row wise representation is  : \", start_node)    \n",
    "\n",
    "goal_node = [1,2,3,4,5,6,7,8,0]\n",
    "print(\"The goal state in row wise representation is  : \", goal_node) \n",
    "\n",
    "# to check for repetition and solvability of the input state of the eight puzzle problem\n",
    "# the program exits if any of the following functions fails\n",
    "\n",
    "# to check for repetitive entries\n",
    "repetition_check(start_node)\n",
    "# to check if the input state of the eight puzzle is solvable or not\n",
    "check_solvability(start_node)\n",
    "\n"
   ]
  },
  {
   "cell_type": "code",
   "execution_count": 1,
   "metadata": {},
   "outputs": [
    {
     "ename": "NameError",
     "evalue": "name 'check_solvability' is not defined",
     "output_type": "error",
     "traceback": [
      "\u001b[0;31m---------------------------------------------------------------------------\u001b[0m",
      "\u001b[0;31mNameError\u001b[0m                                 Traceback (most recent call last)",
      "\u001b[0;32m<ipython-input-1-92a0a22fc60a>\u001b[0m in \u001b[0;36m<module>\u001b[0;34m()\u001b[0m\n\u001b[0;32m----> 1\u001b[0;31m \u001b[0mcheck_solvability\u001b[0m\u001b[0;34m(\u001b[0m\u001b[0mstart_node\u001b[0m\u001b[0;34m)\u001b[0m\u001b[0;34m\u001b[0m\u001b[0m\n\u001b[0m",
      "\u001b[0;31mNameError\u001b[0m: name 'check_solvability' is not defined"
     ]
    }
   ],
   "source": [
    "check_solvability(start_node)\n"
   ]
  },
  {
   "cell_type": "code",
   "execution_count": 2,
   "metadata": {},
   "outputs": [],
   "source": [
    "import numpy as np\n",
    "import os\n",
    "\n",
    "##############################################################################################################\n",
    "# Functions to get the initial state of the eight puzzle from the user, check for repitition and solvability\n",
    "##############################################################################################################\n",
    "\n",
    "# Code to take initial state of the eight puzzle problem\n",
    "def initial_state():\n",
    "    print(\"Enter the initial state of the eight puzzle problem row wise\")\n",
    "    start_node = [0,0,0, 0,0,0, 0,0,0]\n",
    "    for i in range(9):\n",
    "        value = int(input(\"Enter the \" + str(i+1) + \"th value of the eight puzzle\\n\"))\n",
    "        if value >8 or value<0:\n",
    "            print(\"Enter a value from 0 to 8 only, Run program again please\")\n",
    "            exit(0)\n",
    "          \n",
    "        else:\n",
    "            start_node[i] = value            \n",
    "    return start_node\n",
    "\n",
    "# Code to check for repetition of numbers\n",
    "def repetition_check(node_for_check):  \n",
    "    for x in range(9):  \n",
    "        no_of_repetition = 0      \n",
    "        entry = node_for_check[x]\n",
    "        for y in range(9):\n",
    "            if entry == node_for_check[y]:\n",
    "                no_of_repetition = no_of_repetition + 1\n",
    "             \n",
    "        if no_of_repetition >= 2:\n",
    "            print(\"An entry for the eight puzzle has been repeated, Please restart program\")\n",
    "            exit(0)\n",
    "\n",
    "# test code to check if the eight puzzle is solvable or not\n",
    "def check_solvability(node_check):\n",
    "    inversions = 0\n",
    "    for x in range(len(node_check)):\n",
    "        for y in range(len(node_check[(x+1):])):\n",
    "            # Uncomment following line to see the values being compared\n",
    "            #print(node_check[x],\"  \", node_check[x+y+1])\n",
    "            # to ignore the blank tile\n",
    "            if node_check[x+y+1]>0:\n",
    "                if node_check[x] > node_check[x+y+1]:\n",
    "                    inversions = inversions + 1\n",
    "    #print(inversions) #to check the number of inversions\n",
    "    \n",
    "    if inversions % 2 == 0:\n",
    "        return True\n",
    "    else:\n",
    "        exit(0)\n",
    "        return False\n",
    "        \n",
    "\n"
   ]
  },
  {
   "cell_type": "code",
   "execution_count": null,
   "metadata": {},
   "outputs": [],
   "source": []
  },
  {
   "cell_type": "code",
   "execution_count": null,
   "metadata": {},
   "outputs": [],
   "source": []
  },
  {
   "cell_type": "code",
   "execution_count": null,
   "metadata": {},
   "outputs": [],
   "source": []
  },
  {
   "cell_type": "code",
   "execution_count": null,
   "metadata": {},
   "outputs": [],
   "source": [
    "\n",
    "# Code to take initial state of the eight puzzle problem\n",
    "def initial_state():\n",
    "    print(\"Enter the initial state of the eight puzzle problem row wise\")\n",
    "    start_node = [0,0,0, 0,0,0, 0,0,0]\n",
    "    for i in range(9):\n",
    "        value = int(input(\"Enter the \" + str(i+1) + \"th value of the eight puzzle\\n\"))\n",
    "        if value >8 or value<0:\n",
    "            print(\"Enter a value from 0 to 8 only, Run program again please\")\n",
    "            exit(0)\n",
    "          \n",
    "        else:\n",
    "            start_node[i] = value            \n",
    "    return start_node\n",
    "\n",
    "# Code to check for repetition of numbers\n",
    "def repetition_check(node_for_check):  \n",
    "    for x in range(9):  \n",
    "        no_of_repetition = 0      \n",
    "        entry = node_for_check[x]\n",
    "        for y in range(9):\n",
    "            if entry == node_for_check[y]:\n",
    "                no_of_repetition = no_of_repetition + 1\n",
    "             \n",
    "        if no_of_repetition >= 2:\n",
    "            print(\"An entry for the eight puzzle has been repeated, Please restart program\")\n",
    "            exit(0)\n",
    "\n",
    "# test code to check if the eight puzzle is solvable or not\n",
    "def check_solvability(node_check):\n",
    "    inversions = 0\n",
    "    for x in range(len(node_check)):\n",
    "        for y in range(len(node_check[(x+1):])):\n",
    "            # Uncomment following line to see the values being compared\n",
    "            #print(node_check[x],\"  \", node_check[x+y+1])\n",
    "            # to ignore the blank tile\n",
    "            if node_check[x+y+1]>0:\n",
    "                if node_check[x] > node_check[x+y+1]:\n",
    "                    inversions = inversions + 1\n",
    "    #print(inversions) #to check the number of inversions\n",
    "    \n",
    "    if inversions % 2 == 0:\n",
    "        return True\n",
    "    else:\n",
    "        return False\n"
   ]
  },
  {
   "cell_type": "code",
   "execution_count": null,
   "metadata": {},
   "outputs": [],
   "source": [
    "# function to calculate the location of the zero tile \n",
    "# and return the location as zero_position\n",
    "\n",
    "def BlankTileLocation(node):    \n",
    "    for i in range(0,len(node)):           \n",
    "            if (node[i] == 0):\n",
    "                zero_position = i\n",
    "    return zero_position\n",
    "\n",
    "zero_position = BlankTileLocation(test_node)"
   ]
  },
  {
   "cell_type": "code",
   "execution_count": null,
   "metadata": {},
   "outputs": [],
   "source": [
    "# function to move the blank (zero) tile left\n",
    "def ActionMoveLeft(node_zero_unmoved):\n",
    "    zero_position = BlankTileLocation(node_zero_unmoved)\n",
    "    node_zero_moved = list(node_zero_unmoved)\n",
    "    if zero_position in [0,3,6]:\n",
    "        possibility = False\n",
    "        return possibility, node_zero_moved\n",
    "    else:\n",
    "        node_zero_moved[zero_position] = node_zero_moved[zero_position-1]\n",
    "        node_zero_moved[zero_position-1] = 0\n",
    "        possibility = True\n",
    "        return possibility, node_zero_unmoved, node_zero_moved"
   ]
  },
  {
   "cell_type": "code",
   "execution_count": null,
   "metadata": {},
   "outputs": [],
   "source": [
    "ActionMoveLeft(test_node2)"
   ]
  },
  {
   "cell_type": "code",
   "execution_count": null,
   "metadata": {},
   "outputs": [],
   "source": [
    "# function to move the blank (zero) tile right\n",
    "def ActionMoveRight(node_zero_unmoved):\n",
    "    zero_position = BlankTileLocation(node_zero_unmoved)\n",
    "    node_zero_moved = list(node_zero_unmoved)\n",
    "    if zero_position in [2,5,8]:\n",
    "        possibility = False\n",
    "        return possibility, node_zero_moved\n",
    "    else:\n",
    "        node_zero_moved[zero_position] = node_zero_moved[zero_position+1]\n",
    "        node_zero_moved[zero_position+1] = 0\n",
    "        possibility = True\n",
    "        return possibility, node_zero_unmoved, node_zero_moved"
   ]
  },
  {
   "cell_type": "code",
   "execution_count": null,
   "metadata": {},
   "outputs": [],
   "source": [
    "ActionMoveRight(test_node)"
   ]
  },
  {
   "cell_type": "code",
   "execution_count": null,
   "metadata": {},
   "outputs": [],
   "source": [
    "print(test_node)"
   ]
  },
  {
   "cell_type": "code",
   "execution_count": null,
   "metadata": {},
   "outputs": [],
   "source": [
    "# function to move the blank (zero) tile up\n",
    "def ActionMoveUp(node_zero_unmoved):\n",
    "    zero_position = BlankTileLocation(node_zero_unmoved)\n",
    "    node_zero_moved = list(node_zero_unmoved)\n",
    "    if zero_position in [0,1,2]:\n",
    "        possibility = False\n",
    "        return possibility, node_zero_moved\n",
    "    else:\n",
    "        node_zero_moved[zero_position] = node_zero_moved[zero_position-3]\n",
    "        node_zero_moved[zero_position-3] = 0\n",
    "        possibility = True\n",
    "        return possibility, node_zero_unmoved, node_zero_moved"
   ]
  },
  {
   "cell_type": "code",
   "execution_count": null,
   "metadata": {},
   "outputs": [],
   "source": [
    "ActionMoveUp(test_node2)"
   ]
  },
  {
   "cell_type": "code",
   "execution_count": null,
   "metadata": {},
   "outputs": [],
   "source": [
    "# function to move the blank (zero) tile down\n",
    "def ActionMoveDown(node_zero_unmoved):\n",
    "    zero_position = BlankTileLocation(node_zero_unmoved)\n",
    "    node_zero_moved = list(node_zero_unmoved)\n",
    "    if zero_position in [6,7,8]:\n",
    "        possibility = False\n",
    "        return possibility, node_zero_moved\n",
    "    else:\n",
    "        node_zero_moved[zero_position] = node_zero_moved[zero_position+3]\n",
    "        node_zero_moved[zero_position+3] = 0\n",
    "        possibility = True\n",
    "        return possibility, node_zero_unmoved, node_zero_moved"
   ]
  },
  {
   "cell_type": "code",
   "execution_count": null,
   "metadata": {},
   "outputs": [],
   "source": [
    "ActionMoveDown(test_node2)"
   ]
  },
  {
   "cell_type": "code",
   "execution_count": null,
   "metadata": {},
   "outputs": [],
   "source": [
    "# Function to check if matrix \n",
    "  "
   ]
  },
  {
   "cell_type": "code",
   "execution_count": null,
   "metadata": {},
   "outputs": [],
   "source": []
  },
  {
   "cell_type": "code",
   "execution_count": null,
   "metadata": {},
   "outputs": [],
   "source": []
  },
  {
   "cell_type": "code",
   "execution_count": null,
   "metadata": {},
   "outputs": [],
   "source": []
  },
  {
   "cell_type": "code",
   "execution_count": null,
   "metadata": {},
   "outputs": [],
   "source": []
  },
  {
   "cell_type": "code",
   "execution_count": null,
   "metadata": {},
   "outputs": [],
   "source": []
  },
  {
   "cell_type": "code",
   "execution_count": null,
   "metadata": {},
   "outputs": [],
   "source": []
  },
  {
   "cell_type": "code",
   "execution_count": null,
   "metadata": {},
   "outputs": [],
   "source": []
  },
  {
   "cell_type": "code",
   "execution_count": null,
   "metadata": {},
   "outputs": [],
   "source": []
  },
  {
   "cell_type": "code",
   "execution_count": null,
   "metadata": {},
   "outputs": [],
   "source": []
  },
  {
   "cell_type": "code",
   "execution_count": null,
   "metadata": {},
   "outputs": [],
   "source": []
  }
 ],
 "metadata": {
  "kernelspec": {
   "display_name": "Python 3",
   "language": "python",
   "name": "python3"
  },
  "language_info": {
   "codemirror_mode": {
    "name": "ipython",
    "version": 2
   },
   "file_extension": ".py",
   "mimetype": "text/x-python",
   "name": "python",
   "nbconvert_exporter": "python",
   "pygments_lexer": "ipython2",
   "version": "2.7.17"
  }
 },
 "nbformat": 4,
 "nbformat_minor": 2
}
