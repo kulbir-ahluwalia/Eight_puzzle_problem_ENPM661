{
 "cells": [
  {
   "cell_type": "code",
   "execution_count": 114,
   "metadata": {
    "scrolled": true
   },
   "outputs": [],
   "source": [
    "import numpy as np\n",
    "#defining the goal matrix\n",
    "goal_node = [1,2,3,4,5,6,7,8,0]\n",
    "test_node = [1,2,3,4,0,5,7,8,6]\n",
    "test_node2 = [1,9,3,4,5,6,7,0,6]\n"
   ]
  },
  {
   "cell_type": "code",
   "execution_count": null,
   "metadata": {},
   "outputs": [],
   "source": []
  },
  {
   "cell_type": "code",
   "execution_count": 115,
   "metadata": {},
   "outputs": [],
   "source": [
    "# function to calculate the location of the zero tile \n",
    "# and return the location as zero_position\n",
    "\n",
    "def BlankTileLocation(node):    \n",
    "    for i in range(0,len(node)):           \n",
    "            if (node[i] == 0):\n",
    "                zero_position = i\n",
    "    return zero_position\n",
    "\n",
    "zero_position = BlankTileLocation(test_node)"
   ]
  },
  {
   "cell_type": "code",
   "execution_count": 116,
   "metadata": {},
   "outputs": [],
   "source": [
    "# function to move the blank (zero) tile left\n",
    "def ActionMoveLeft(node_zero_unmoved):\n",
    "    zero_position = BlankTileLocation(node_zero_unmoved)\n",
    "    node_zero_moved = list(node_zero_unmoved)\n",
    "    if zero_position in [0,3,6]:\n",
    "        possibility = False\n",
    "        return possibility, node_zero_moved\n",
    "    else:\n",
    "        node_zero_moved[zero_position] = node_zero_moved[zero_position-1]\n",
    "        node_zero_moved[zero_position-1] = 0\n",
    "        possibility = True\n",
    "        return possibility, node_zero_unmoved, node_zero_moved"
   ]
  },
  {
   "cell_type": "code",
   "execution_count": 117,
   "metadata": {},
   "outputs": [
    {
     "data": {
      "text/plain": [
       "(True, [1, 9, 3, 4, 5, 6, 7, 0, 6], [1, 9, 3, 4, 5, 6, 0, 7, 6])"
      ]
     },
     "execution_count": 117,
     "metadata": {},
     "output_type": "execute_result"
    }
   ],
   "source": [
    "ActionMoveLeft(test_node2)"
   ]
  },
  {
   "cell_type": "code",
   "execution_count": 118,
   "metadata": {},
   "outputs": [],
   "source": [
    "# function to move the blank (zero) tile right\n",
    "def ActionMoveRight(node_zero_unmoved):\n",
    "    zero_position = BlankTileLocation(node_zero_unmoved)\n",
    "    node_zero_moved = list(node_zero_unmoved)\n",
    "    if zero_position in [2,5,8]:\n",
    "        possibility = False\n",
    "        return possibility, node_zero_moved\n",
    "    else:\n",
    "        node_zero_moved[zero_position] = node_zero_moved[zero_position+1]\n",
    "        node_zero_moved[zero_position+1] = 0\n",
    "        possibility = True\n",
    "        return possibility, node_zero_unmoved, node_zero_moved"
   ]
  },
  {
   "cell_type": "code",
   "execution_count": 119,
   "metadata": {},
   "outputs": [
    {
     "data": {
      "text/plain": [
       "(True, [1, 2, 3, 4, 0, 5, 7, 8, 6], [1, 2, 3, 4, 5, 0, 7, 8, 6])"
      ]
     },
     "execution_count": 119,
     "metadata": {},
     "output_type": "execute_result"
    }
   ],
   "source": [
    "ActionMoveRight(test_node)"
   ]
  },
  {
   "cell_type": "code",
   "execution_count": 120,
   "metadata": {},
   "outputs": [
    {
     "name": "stdout",
     "output_type": "stream",
     "text": [
      "[1, 2, 3, 4, 0, 5, 7, 8, 6]\n"
     ]
    }
   ],
   "source": [
    "print(test_node)"
   ]
  },
  {
   "cell_type": "code",
   "execution_count": 121,
   "metadata": {},
   "outputs": [],
   "source": [
    "# function to move the blank (zero) tile up\n",
    "def ActionMoveUp(node_zero_unmoved):\n",
    "    zero_position = BlankTileLocation(node_zero_unmoved)\n",
    "    node_zero_moved = list(node_zero_unmoved)\n",
    "    if zero_position in [0,1,2]:\n",
    "        possibility = False\n",
    "        return possibility, node_zero_moved\n",
    "    else:\n",
    "        node_zero_moved[zero_position] = node_zero_moved[zero_position-3]\n",
    "        node_zero_moved[zero_position-3] = 0\n",
    "        possibility = True\n",
    "        return possibility, node_zero_unmoved, node_zero_moved"
   ]
  },
  {
   "cell_type": "code",
   "execution_count": 124,
   "metadata": {},
   "outputs": [
    {
     "data": {
      "text/plain": [
       "(True, [1, 9, 3, 4, 5, 6, 7, 0, 6], [1, 9, 3, 4, 0, 6, 7, 5, 6])"
      ]
     },
     "execution_count": 124,
     "metadata": {},
     "output_type": "execute_result"
    }
   ],
   "source": [
    "ActionMoveUp(test_node2)"
   ]
  },
  {
   "cell_type": "code",
   "execution_count": 125,
   "metadata": {},
   "outputs": [],
   "source": [
    "# function to move the blank (zero) tile down\n",
    "def ActionMoveDown(node_zero_unmoved):\n",
    "    zero_position = BlankTileLocation(node_zero_unmoved)\n",
    "    node_zero_moved = list(node_zero_unmoved)\n",
    "    if zero_position in [6,7,8]:\n",
    "        possibility = False\n",
    "        return possibility, node_zero_moved\n",
    "    else:\n",
    "        node_zero_moved[zero_position] = node_zero_moved[zero_position+3]\n",
    "        node_zero_moved[zero_position+3] = 0\n",
    "        possibility = True\n",
    "        return possibility, node_zero_unmoved, node_zero_moved"
   ]
  },
  {
   "cell_type": "code",
   "execution_count": 126,
   "metadata": {},
   "outputs": [
    {
     "data": {
      "text/plain": [
       "(False, [1, 9, 3, 4, 5, 6, 7, 0, 6])"
      ]
     },
     "execution_count": 126,
     "metadata": {},
     "output_type": "execute_result"
    }
   ],
   "source": [
    "ActionMoveDown(test_node2)"
   ]
  },
  {
   "cell_type": "code",
   "execution_count": 27,
   "metadata": {},
   "outputs": [],
   "source": [
    "# Function to check if matrix \n",
    "  "
   ]
  },
  {
   "cell_type": "code",
   "execution_count": null,
   "metadata": {},
   "outputs": [],
   "source": []
  },
  {
   "cell_type": "code",
   "execution_count": null,
   "metadata": {},
   "outputs": [],
   "source": []
  },
  {
   "cell_type": "code",
   "execution_count": null,
   "metadata": {},
   "outputs": [],
   "source": []
  },
  {
   "cell_type": "code",
   "execution_count": null,
   "metadata": {},
   "outputs": [],
   "source": []
  },
  {
   "cell_type": "code",
   "execution_count": null,
   "metadata": {},
   "outputs": [],
   "source": []
  },
  {
   "cell_type": "code",
   "execution_count": null,
   "metadata": {},
   "outputs": [],
   "source": []
  },
  {
   "cell_type": "code",
   "execution_count": null,
   "metadata": {},
   "outputs": [],
   "source": []
  },
  {
   "cell_type": "code",
   "execution_count": null,
   "metadata": {},
   "outputs": [],
   "source": []
  },
  {
   "cell_type": "code",
   "execution_count": null,
   "metadata": {},
   "outputs": [],
   "source": []
  },
  {
   "cell_type": "code",
   "execution_count": null,
   "metadata": {},
   "outputs": [],
   "source": []
  }
 ],
 "metadata": {
  "kernelspec": {
   "display_name": "Python 3",
   "language": "python",
   "name": "python3"
  },
  "language_info": {
   "codemirror_mode": {
    "name": "ipython",
    "version": 2
   },
   "file_extension": ".py",
   "mimetype": "text/x-python",
   "name": "python",
   "nbconvert_exporter": "python",
   "pygments_lexer": "ipython2",
   "version": "2.7.17"
  }
 },
 "nbformat": 4,
 "nbformat_minor": 2
}
