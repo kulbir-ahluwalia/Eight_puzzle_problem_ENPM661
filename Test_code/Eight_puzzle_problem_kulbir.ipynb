{
 "cells": [
  {
   "cell_type": "code",
   "execution_count": 2,
   "metadata": {},
   "outputs": [],
   "source": [
    "import numpy as np\n",
    "\n"
   ]
  },
  {
   "cell_type": "code",
   "execution_count": 3,
   "metadata": {},
   "outputs": [],
   "source": [
    "#defining the goal matrix\n",
    "test_puzzle_matrix = np.array([[1,2,3],[4,0,6],[7,8,5]])"
   ]
  },
  {
   "cell_type": "code",
   "execution_count": 4,
   "metadata": {
    "scrolled": true
   },
   "outputs": [
    {
     "name": "stdout",
     "output_type": "stream",
     "text": [
      "[[1 2 3]\n",
      " [4 5 6]\n",
      " [7 8 0]]\n"
     ]
    }
   ],
   "source": [
    "#defining the goal matrix\n",
    "goal_puzzle_matrix = np.array([[1,2,3],[4,5,6],[7,8,0]])\n",
    "print(goal_puzzle_matrix)"
   ]
  },
  {
   "cell_type": "code",
   "execution_count": 5,
   "metadata": {},
   "outputs": [
    {
     "name": "stdout",
     "output_type": "stream",
     "text": [
      "[[1 2 3]\n",
      " [4 5 6]\n",
      " [7 8 0]]\n"
     ]
    }
   ],
   "source": [
    "test = goal_puzzle_matrix.copy()\n",
    "print(test)"
   ]
  },
  {
   "cell_type": "code",
   "execution_count": 6,
   "metadata": {},
   "outputs": [],
   "source": [
    "# function to calculate the location of the zero tile \n",
    "# and return the location as (i, j)\n",
    "\n",
    "def BlankTileLocation(matrix):    \n",
    "    for i in range(0,len(matrix)):\n",
    "        for j in range(0,len(matrix)):            \n",
    "            if (matrix[i][j] == 0):\n",
    "                zero_row_number = i\n",
    "                zero_column_number = j\n",
    "    return zero_row_number, zero_column_number\n"
   ]
  },
  {
   "cell_type": "code",
   "execution_count": 34,
   "metadata": {},
   "outputs": [],
   "source": [
    "# function to move the blank (zero) tile left\n",
    "def ActionMoveLeft(matrix_zero_unmoved):\n",
    "    matrix_zero_moved = matrix_zero_unmoved.copy()\n",
    "    zero_row_number, zero_column_number = BlankTileLocation(matrix_zero_moved)\n",
    "    \n",
    "    if(zero_column_number>0):\n",
    "        matrix_zero_moved[zero_row_number][zero_column_number] = matrix_zero_moved[zero_row_number][zero_column_number-1]\n",
    "        matrix_zero_moved[zero_row_number][zero_column_number-1] = 0\n",
    "        \n",
    "    return matrix_zero_moved, matrix_zero_unmoved\n",
    "        "
   ]
  },
  {
   "cell_type": "code",
   "execution_count": 35,
   "metadata": {},
   "outputs": [],
   "source": [
    "# function to move the blank (zero) tile right\n",
    "def ActionMoveRight(matrix_zero_unmoved):\n",
    "    matrix_zero_moved = matrix_zero_unmoved.copy()\n",
    "    zero_row_number, zero_column_number = BlankTileLocation(matrix_zero_moved)\n",
    "    \n",
    "    if(zero_column_number<len(matrix_zero_moved)-1):\n",
    "        matrix_zero_moved[zero_row_number][zero_column_number] = matrix_zero_moved[zero_row_number][zero_column_number+1]\n",
    "        matrix_zero_moved[zero_row_number][zero_column_number+1] = 0\n",
    "        \n",
    "    return matrix_zero_moved, matrix_zero_unmoved\n",
    "        "
   ]
  },
  {
   "cell_type": "code",
   "execution_count": 36,
   "metadata": {},
   "outputs": [],
   "source": [
    "# function to move the blank (zero) tile up\n",
    "def ActionMoveUp(matrix_zero_unmoved):\n",
    "    matrix_zero_moved = matrix_zero_unmoved.copy()\n",
    "    zero_row_number, zero_column_number = BlankTileLocation(matrix_zero_moved)\n",
    "    \n",
    "    if(zero_row_number>0):\n",
    "        matrix_zero_moved[zero_row_number][zero_column_number] = matrix_zero_moved[zero_row_number-1][zero_column_number]\n",
    "        matrix_zero_moved[zero_row_number-1][zero_column_number] = 0\n",
    "        \n",
    "    return matrix_zero_moved, matrix_zero_unmoved\n",
    "        "
   ]
  },
  {
   "cell_type": "code",
   "execution_count": 37,
   "metadata": {},
   "outputs": [],
   "source": [
    "# function to move the blank (zero) tile down\n",
    "def ActionMoveDown(matrix_zero_unmoved):\n",
    "    matrix_zero_moved = matrix_zero_unmoved.copy()\n",
    "    zero_row_number, zero_column_number = BlankTileLocation(matrix_zero_moved)\n",
    "    \n",
    "    if(zero_row_number<len(matrix_zero_moved)-1):\n",
    "        matrix_zero_moved[zero_row_number][zero_column_number] = matrix_zero_moved[zero_row_number+1][zero_column_number]\n",
    "        matrix_zero_moved[zero_row_number+1][zero_column_number] = 0\n",
    "        \n",
    "    return matrix_zero_moved, matrix_zero_unmoved\n",
    "        \n",
    "        \n",
    "        \n",
    "        \n",
    "        \n",
    "        \n",
    "   "
   ]
  },
  {
   "cell_type": "code",
   "execution_count": 7,
   "metadata": {},
   "outputs": [
    {
     "name": "stdout",
     "output_type": "stream",
     "text": [
      "3\n",
      "3\n"
     ]
    }
   ],
   "source": [
    "goal = np.array([1,2,3,4,5,6,7,8,0])\n",
    "\n",
    "print(goal[2])\n",
    "    \n",
    "goalNode = [1, 2, 3, 4, 5, 6, 7, 8, 0]\n",
    "\n",
    "print(goalNode[2])\n",
    "    \n",
    "    \n",
    "    \n",
    "    \n",
    "    "
   ]
  },
  {
   "cell_type": "code",
   "execution_count": null,
   "metadata": {},
   "outputs": [],
   "source": [
    "# Code to take initial state of the eight puzzle problem\n",
    "\n",
    "def initial_state():\n",
    "    print(\"Enter the initial state of the eight puzzle problem element wise\")\n",
    "    start_node = [0,0,0, 0,0,0, 0,0,0]\n",
    "    for i in range(9):\n",
    "        value = int(input(\"Enter the \" + str(i+1) + \"th value of the eight puzzle\\n\"))\n",
    "        if value >8 or value<0:\n",
    "            print(\"Enter a value from 0 to 8 only, Run program again please\")\n",
    "            exit(0)\n",
    "          \n",
    "        else:\n",
    "            start_node[i] = value\n",
    "            \n",
    "    return start_node\n",
    "\n",
    "         \n",
    "            \n",
    "    \n",
    "    \n",
    "    \n",
    "            "
   ]
  },
  {
   "cell_type": "code",
   "execution_count": null,
   "metadata": {},
   "outputs": [],
   "source": [
    "# Code to check for repetition of numbers\n",
    "\n",
    "def repetition_check(node_for_check):\n",
    "    for x in range(9):\n",
    "        no_of_repetition = 0\n",
    "        entry = node_for_check[x]\n",
    "        for y in range(9):\n",
    "            if entry == node_for_check[y]:\n",
    "                no_of_repetition = no_of_repetition +1\n",
    "             \n",
    "    if no_of_repetition >= 1:\n",
    "        print(\"An entry for the eight puzzle has been repeated, Please restart program\")\n",
    "        exit(0)\n",
    "\n",
    "start_node = initial_state()\n",
    "print(\"The initial state in row wise representation is  : \", start_node)    \n",
    "\n",
    "repetition_check(start_node)\n",
    "\n",
    "\n",
    "    "
   ]
  },
  {
   "cell_type": "code",
   "execution_count": null,
   "metadata": {},
   "outputs": [],
   "source": [
    "\n",
    "\n",
    "        \n",
    "        "
   ]
  },
  {
   "cell_type": "code",
   "execution_count": 26,
   "metadata": {},
   "outputs": [],
   "source": [
    "\n",
    "  "
   ]
  },
  {
   "cell_type": "code",
   "execution_count": 27,
   "metadata": {},
   "outputs": [],
   "source": [
    "\n",
    "  "
   ]
  },
  {
   "cell_type": "code",
   "execution_count": 28,
   "metadata": {},
   "outputs": [],
   "source": [
    "\n",
    "  "
   ]
  },
  {
   "cell_type": "code",
   "execution_count": 38,
   "metadata": {},
   "outputs": [
    {
     "data": {
      "text/plain": [
       "(array([[1, 2, 3],\n",
       "        [0, 4, 6],\n",
       "        [7, 8, 5]]), array([[1, 2, 3],\n",
       "        [4, 0, 6],\n",
       "        [7, 8, 5]]))"
      ]
     },
     "execution_count": 38,
     "metadata": {},
     "output_type": "execute_result"
    }
   ],
   "source": [
    "ActionMoveLeft(test_puzzle_matrix)"
   ]
  },
  {
   "cell_type": "code",
   "execution_count": 39,
   "metadata": {},
   "outputs": [
    {
     "data": {
      "text/plain": [
       "(array([[1, 2, 3],\n",
       "        [4, 6, 0],\n",
       "        [7, 8, 5]]), array([[1, 2, 3],\n",
       "        [4, 0, 6],\n",
       "        [7, 8, 5]]))"
      ]
     },
     "execution_count": 39,
     "metadata": {},
     "output_type": "execute_result"
    }
   ],
   "source": [
    "ActionMoveRight(test_puzzle_matrix)"
   ]
  },
  {
   "cell_type": "code",
   "execution_count": 40,
   "metadata": {},
   "outputs": [
    {
     "data": {
      "text/plain": [
       "(array([[1, 0, 3],\n",
       "        [4, 2, 6],\n",
       "        [7, 8, 5]]), array([[1, 2, 3],\n",
       "        [4, 0, 6],\n",
       "        [7, 8, 5]]))"
      ]
     },
     "execution_count": 40,
     "metadata": {},
     "output_type": "execute_result"
    }
   ],
   "source": [
    "ActionMoveUp(test_puzzle_matrix)"
   ]
  },
  {
   "cell_type": "code",
   "execution_count": 41,
   "metadata": {},
   "outputs": [
    {
     "data": {
      "text/plain": [
       "(array([[1, 2, 3],\n",
       "        [4, 8, 6],\n",
       "        [7, 0, 5]]), array([[1, 2, 3],\n",
       "        [4, 0, 6],\n",
       "        [7, 8, 5]]))"
      ]
     },
     "execution_count": 41,
     "metadata": {},
     "output_type": "execute_result"
    }
   ],
   "source": [
    "ActionMoveDown(test_puzzle_matrix)"
   ]
  },
  {
   "cell_type": "code",
   "execution_count": 7,
   "metadata": {},
   "outputs": [
    {
     "name": "stdout",
     "output_type": "stream",
     "text": [
      "(2, 2)\n"
     ]
    }
   ],
   "source": [
    "zero_row_number, zero_column_number = BlankTileLocation(goal_puzzle_matrix)\n",
    "print(zero_row_number, zero_column_number)\n",
    "\n"
   ]
  },
  {
   "cell_type": "code",
   "execution_count": 16,
   "metadata": {},
   "outputs": [
    {
     "data": {
      "text/plain": [
       "3"
      ]
     },
     "execution_count": 16,
     "metadata": {},
     "output_type": "execute_result"
    }
   ],
   "source": [
    "len(test_puzzle_matrix)"
   ]
  },
  {
   "cell_type": "code",
   "execution_count": null,
   "metadata": {},
   "outputs": [],
   "source": []
  },
  {
   "cell_type": "code",
   "execution_count": null,
   "metadata": {},
   "outputs": [],
   "source": []
  },
  {
   "cell_type": "code",
   "execution_count": null,
   "metadata": {},
   "outputs": [],
   "source": []
  },
  {
   "cell_type": "code",
   "execution_count": null,
   "metadata": {},
   "outputs": [],
   "source": []
  },
  {
   "cell_type": "code",
   "execution_count": null,
   "metadata": {},
   "outputs": [],
   "source": []
  },
  {
   "cell_type": "code",
   "execution_count": null,
   "metadata": {},
   "outputs": [],
   "source": []
  },
  {
   "cell_type": "code",
   "execution_count": null,
   "metadata": {},
   "outputs": [],
   "source": []
  },
  {
   "cell_type": "code",
   "execution_count": null,
   "metadata": {},
   "outputs": [],
   "source": []
  },
  {
   "cell_type": "code",
   "execution_count": null,
   "metadata": {},
   "outputs": [],
   "source": []
  },
  {
   "cell_type": "code",
   "execution_count": null,
   "metadata": {},
   "outputs": [],
   "source": []
  }
 ],
 "metadata": {
  "kernelspec": {
   "display_name": "Python 3",
   "language": "python",
   "name": "python3"
  },
  "language_info": {
   "codemirror_mode": {
    "name": "ipython",
    "version": 2
   },
   "file_extension": ".py",
   "mimetype": "text/x-python",
   "name": "python",
   "nbconvert_exporter": "python",
   "pygments_lexer": "ipython2",
   "version": "2.7.17"
  }
 },
 "nbformat": 4,
 "nbformat_minor": 2
}
